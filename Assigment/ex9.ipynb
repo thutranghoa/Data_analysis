{
 "cells": [
  {
   "cell_type": "code",
   "execution_count": null,
   "metadata": {},
   "outputs": [],
   "source": [
    "import pandas as pd\n",
    "\n",
    "d = {'Job' : ['Back-end Developer','Front-end Developer', 'Full-stack Developer','Mobile Developer','Game Developer', 'Embedded Engineer','Product Owner/Product Manager','Project Manager/Project Leader','IT Lead/Manager','IT Consultant','Designer','Tester or QA-QC','Syste Engineer/System Admin', 'DevOps Engineer', 'Chuyên gia Data, AI & ML', 'ERP Engineer/ERP Consultant', 'Solution Architect'],\n",
    "     'Dưới 1 năm' : [12, 11,17,12,19,15,12.5,19.5,0, 0, 0, 11.5, 13, 0, 12, 18, 0],\n",
    "     'Từ 1 đến 3 năm ' : [18,15,19,19,22,37,28,35,0,0,25,15,17]}"
   ]
  }
 ],
 "metadata": {
  "language_info": {
   "name": "python"
  }
 },
 "nbformat": 4,
 "nbformat_minor": 2
}
