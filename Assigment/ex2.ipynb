{
 "cells": [
  {
   "cell_type": "code",
   "execution_count": 2,
   "metadata": {},
   "outputs": [
    {
     "name": "stdout",
     "output_type": "stream",
     "text": [
      "Array [1, 2, 3]\n",
      "First quartile  Q1 =  1.5\n",
      "Second quartile  Q2 =  2.0\n",
      "Third quartile  Q3 =  2.5\n",
      "Inter Range  IRQ =  1.0\n",
      "Median =  2.0\n",
      "Minumum  Min =  1\n",
      "Maximum  Max =  3\n",
      "Range  R =  2\n"
     ]
    }
   ],
   "source": [
    "import numpy as np\n",
    "val = input(\"Enter your value: \")\n",
    "val = [int(i) for i in val.split()]\n",
    "print (\"Array\", val)\n",
    "print (\"First quartile  Q1 = \", np.quantile(val, .25))\n",
    "print (\"Second quartile  Q2 = \", np.quantile(val, .50))\n",
    "print (\"Third quartile  Q3 = \", np.quantile(val, .75))\n",
    "\n",
    "print (\"Inter Range  IRQ = \", np.quantile(val, .75) - np.quantile(val, .25))\n",
    "print (\"Median = \", np.median(val))\n",
    "print (\"Minumum  Min = \", np.min(val))\n",
    "print (\"Maximum  Max = \", np.max(val))\n",
    "print (\"Range  R = \", max(val) - min(val))"
   ]
  }
 ],
 "metadata": {
  "kernelspec": {
   "display_name": "Python 3",
   "language": "python",
   "name": "python3"
  },
  "language_info": {
   "codemirror_mode": {
    "name": "ipython",
    "version": 3
   },
   "file_extension": ".py",
   "mimetype": "text/x-python",
   "name": "python",
   "nbconvert_exporter": "python",
   "pygments_lexer": "ipython3",
   "version": "3.9.6"
  }
 },
 "nbformat": 4,
 "nbformat_minor": 2
}
