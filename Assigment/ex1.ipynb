{
 "cells": [
  {
   "cell_type": "code",
   "execution_count": 4,
   "metadata": {},
   "outputs": [
    {
     "name": "stdout",
     "output_type": "stream",
     "text": [
      "Std with python =  2.9832867780352594\n"
     ]
    }
   ],
   "source": [
    "import math\n",
    "\n",
    "data = [9,2,5,4,12,7,8,11,9,3,7,4,12,5,4,10,9,6,9,4]\n",
    "mean = sum(data) / len(data)   # mean\n",
    "var  = sum(pow(x-mean,2) for x in data) / len(data)  # variance\n",
    "std  = math.sqrt(var)  \n",
    "print (\"Std with python = \", std)"
   ]
  },
  {
   "cell_type": "code",
   "execution_count": 5,
   "metadata": {},
   "outputs": [
    {
     "name": "stdout",
     "output_type": "stream",
     "text": [
      "Std with numpy =  2.9832867780352594\n"
     ]
    }
   ],
   "source": [
    "import numpy as np\n",
    "print (\"Std with numpy = \", np.std(data))"
   ]
  },
  {
   "cell_type": "code",
   "execution_count": null,
   "metadata": {},
   "outputs": [],
   "source": []
  }
 ],
 "metadata": {
  "kernelspec": {
   "display_name": "Python 3",
   "language": "python",
   "name": "python3"
  },
  "language_info": {
   "codemirror_mode": {
    "name": "ipython",
    "version": 3
   },
   "file_extension": ".py",
   "mimetype": "text/x-python",
   "name": "python",
   "nbconvert_exporter": "python",
   "pygments_lexer": "ipython3",
   "version": "3.9.6"
  }
 },
 "nbformat": 4,
 "nbformat_minor": 2
}
